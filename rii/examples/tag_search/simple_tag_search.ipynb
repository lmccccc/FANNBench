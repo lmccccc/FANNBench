{
 "cells": [
  {
   "cell_type": "markdown",
   "metadata": {},
   "source": [
    "# Simple tag search\n",
    "\n",
    "This script shows a simple example of a combination of tag-based search and ANN search\n",
    "\n",
    "Requisites:\n",
    "- numpy\n",
    "- rii (can be installed via `pip install rii`)\n",
    "- nanopq (can be installed via `pip install nanopq`)\n"
   ]
  },
  {
   "cell_type": "code",
   "execution_count": 1,
   "metadata": {},
   "outputs": [],
   "source": [
    "import rii\n",
    "import nanopq\n",
    "import numpy as np\n",
    "from pprint import pprint"
   ]
  },
  {
   "cell_type": "markdown",
   "metadata": {},
   "source": [
    "## Setup"
   ]
  },
  {
   "cell_type": "markdown",
   "metadata": {},
   "source": [
    "Let us suppose we have $N$ images. For each image, a $D$-dimentional feature vector is extracted: $X \\in \\mathbb{R}^{N \\times D}$"
   ]
  },
  {
   "cell_type": "code",
   "execution_count": 2,
   "metadata": {},
   "outputs": [
    {
     "name": "stdout",
     "output_type": "stream",
     "text": [
      "[[0.23848394 0.29702175 0.65262675 0.9822919 ]\n",
      " [0.5894111  0.9024969  0.5392529  0.7023705 ]\n",
      " [0.9426218  0.26252207 0.39459682 0.9452917 ]\n",
      " [0.94124043 0.85057265 0.937756   0.17387015]\n",
      " [0.50857836 0.1293731  0.3028786  0.2306242 ]\n",
      " [0.76751685 0.7017813  0.9549601  0.8791828 ]\n",
      " [0.4735736  0.08341998 0.9536749  0.7296951 ]\n",
      " [0.91858566 0.843796   0.6069587  0.8784087 ]\n",
      " [0.88605714 0.99625313 0.9692241  0.65299237]\n",
      " [0.46498737 0.48663864 0.3083093  0.2550272 ]\n",
      " [0.9165077  0.8309953  0.09934966 0.78623253]\n",
      " [0.7734119  0.21923055 0.47940737 0.31913072]\n",
      " [0.40212712 0.02557702 0.10609309 0.7202728 ]\n",
      " [0.1250469  0.98909503 0.13674396 0.22888306]\n",
      " [0.7612986  0.474714   0.487191   0.08833417]\n",
      " [0.6271453  0.33875272 0.6161446  0.81554586]\n",
      " [0.00779804 0.85486376 0.9896356  0.25961038]\n",
      " [0.49262956 0.37964103 0.6773961  0.14222622]\n",
      " [0.24302055 0.5625525  0.5205382  0.15198916]\n",
      " [0.38390493 0.9842511  0.2981003  0.23134524]\n",
      " [0.04426325 0.44369084 0.36672053 0.07548269]\n",
      " [0.9181404  0.5658443  0.15949018 0.8245674 ]\n",
      " [0.15832014 0.9027961  0.1932541  0.6180541 ]\n",
      " [0.38305733 0.75116014 0.8287334  0.00159625]\n",
      " [0.40547684 0.32573125 0.6612171  0.86161375]\n",
      " [0.7281869  0.9748231  0.9402791  0.19104345]\n",
      " [0.04582735 0.614872   0.33615538 0.7376614 ]\n",
      " [0.6912735  0.3906204  0.48312914 0.7643545 ]\n",
      " [0.05059798 0.6909505  0.6743041  0.77224535]\n",
      " [0.8203394  0.6077747  0.27909243 0.00420813]]\n"
     ]
    }
   ],
   "source": [
    "N, D = 30, 4\n",
    "X = np.random.random((N, D)).astype(np.float32)\n",
    "print(X)"
   ]
  },
  {
   "cell_type": "markdown",
   "metadata": {},
   "source": [
    "Besides, each image has its tag for its attribute, as the form of:`attr={\"id\": id, \"tag\": tag}`"
   ]
  },
  {
   "cell_type": "code",
   "execution_count": 3,
   "metadata": {},
   "outputs": [
    {
     "name": "stdout",
     "output_type": "stream",
     "text": [
      "[{'id': 0, 'tag': 'dog'},\n",
      " {'id': 1, 'tag': 'horse'},\n",
      " {'id': 2, 'tag': 'horse'},\n",
      " {'id': 3, 'tag': 'dog'},\n",
      " {'id': 4, 'tag': 'cat'},\n",
      " {'id': 5, 'tag': 'horse'},\n",
      " {'id': 6, 'tag': 'cat'},\n",
      " {'id': 7, 'tag': 'rabbit'},\n",
      " {'id': 8, 'tag': 'rabbit'},\n",
      " {'id': 9, 'tag': 'dog'},\n",
      " {'id': 10, 'tag': 'horse'},\n",
      " {'id': 11, 'tag': 'horse'},\n",
      " {'id': 12, 'tag': 'rabbit'},\n",
      " {'id': 13, 'tag': 'horse'},\n",
      " {'id': 14, 'tag': 'cat'},\n",
      " {'id': 15, 'tag': 'dog'},\n",
      " {'id': 16, 'tag': 'rabbit'},\n",
      " {'id': 17, 'tag': 'cat'},\n",
      " {'id': 18, 'tag': 'dog'},\n",
      " {'id': 19, 'tag': 'dog'},\n",
      " {'id': 20, 'tag': 'horse'},\n",
      " {'id': 21, 'tag': 'horse'},\n",
      " {'id': 22, 'tag': 'rabbit'},\n",
      " {'id': 23, 'tag': 'dog'},\n",
      " {'id': 24, 'tag': 'cat'},\n",
      " {'id': 25, 'tag': 'rabbit'},\n",
      " {'id': 26, 'tag': 'cat'},\n",
      " {'id': 27, 'tag': 'dog'},\n",
      " {'id': 28, 'tag': 'rabbit'},\n",
      " {'id': 29, 'tag': 'horse'}]\n"
     ]
    }
   ],
   "source": [
    "def random_tag():\n",
    "    return [\"cat\", \"dog\", \"horse\", \"rabbit\"][np.random.randint(4)]   \n",
    "\n",
    "attributes = [{\"id\": n, \"tag\": random_tag()} for n in range(N)]\n",
    "pprint(attributes)"
   ]
  },
  {
   "cell_type": "markdown",
   "metadata": {},
   "source": [
    "Then let's setup a Rii instance for search"
   ]
  },
  {
   "cell_type": "code",
   "execution_count": 4,
   "metadata": {},
   "outputs": [
    {
     "name": "stdout",
     "output_type": "stream",
     "text": [
      "M: 2, Ks: 10, code_dtype: <class 'numpy.uint8'>\n",
      "iter: 20, seed: 123\n",
      "Training the subspace: 0 / 2\n",
      "Training the subspace: 1 / 2\n",
      "Encoding the subspace: 0 / 2\n",
      "Encoding the subspace: 1 / 2\n",
      "===== Threshold selection ====\n",
      "L: [6]\n",
      "threshold: [30]\n",
      "polyfit coeff: [0, 30]\n",
      "resultant func:  \n",
      "30\n"
     ]
    }
   ],
   "source": [
    "codec = nanopq.PQ(M=2, Ks=10).fit(vecs=X)\n",
    "e = rii.Rii(fine_quantizer=codec).add_configure(vecs=X)"
   ]
  },
  {
   "cell_type": "markdown",
   "metadata": {},
   "source": [
    "## Search"
   ]
  },
  {
   "cell_type": "markdown",
   "metadata": {},
   "source": [
    "Given a new query vector and a target tag, our task is to find items that (1) have the target tag and (2) are similar to the query. Let us prepare the query and the tag:"
   ]
  },
  {
   "cell_type": "code",
   "execution_count": 5,
   "metadata": {},
   "outputs": [
    {
     "name": "stdout",
     "output_type": "stream",
     "text": [
      "query vector: [0.46426806 0.5684307  0.30254945 0.4973088 ]\n",
      "target tag: dog\n"
     ]
    }
   ],
   "source": [
    "query = np.random.random((D, )).astype(np.float32)\n",
    "target_tag = \"dog\"\n",
    "print(\"query vector:\", query)\n",
    "print(\"target tag:\", target_tag)\n"
   ]
  },
  {
   "cell_type": "markdown",
   "metadata": {},
   "source": [
    "Let's run the tag search, i.e., collecting IDs of items that have the target tag. Here, we show a simple exhaustive search over the attributes for simplicity. You can use any fast algorithms/libraries here, such as SQL, pandas, and elasticsearch."
   ]
  },
  {
   "cell_type": "code",
   "execution_count": 6,
   "metadata": {},
   "outputs": [
    {
     "name": "stdout",
     "output_type": "stream",
     "text": [
      "target IDs: [ 0  3  9 15 18 19 23 27]\n"
     ]
    }
   ],
   "source": [
    "target_ids = np.array([attr[\"id\"] for attr in attributes if attr['tag'] == target_tag])\n",
    "print(\"target IDs:\", target_ids)"
   ]
  },
  {
   "cell_type": "markdown",
   "metadata": {},
   "source": [
    "With Rii, we can find similar feature vectors to the query efficiently, where the search range is specified by the target IDs."
   ]
  },
  {
   "cell_type": "code",
   "execution_count": 7,
   "metadata": {},
   "outputs": [
    {
     "name": "stdout",
     "output_type": "stream",
     "text": [
      "top-3 IDs: [ 9 27 19]\n",
      "top-3 dists: [0.09783517 0.1416896  0.22612099]\n"
     ]
    }
   ],
   "source": [
    "ids, dists = e.query(q=query, target_ids=target_ids, topk=3)\n",
    "print(\"top-3 IDs:\", ids)\n",
    "print(\"top-3 dists:\", dists)"
   ]
  },
  {
   "cell_type": "markdown",
   "metadata": {},
   "source": [
    "As this demo shows, Rii can easily handle such tag-and-ANN search problem. In existing search pipelines, this can be achieved by running the ANN search first and filtering the result by the tag search. But that doesn't work if the result of the ANN search doesn't contain items having the target tag. "
   ]
  }
 ],
 "metadata": {
  "kernelspec": {
   "display_name": "Python 3",
   "language": "python",
   "name": "python3"
  },
  "language_info": {
   "codemirror_mode": {
    "name": "ipython",
    "version": 3
   },
   "file_extension": ".py",
   "mimetype": "text/x-python",
   "name": "python",
   "nbconvert_exporter": "python",
   "pygments_lexer": "ipython3",
   "version": "3.6.6"
  }
 },
 "nbformat": 4,
 "nbformat_minor": 2
}
